{
  "nbformat": 4,
  "nbformat_minor": 0,
  "metadata": {
    "colab": {
      "provenance": []
    },
    "kernelspec": {
      "name": "python3",
      "display_name": "Python 3"
    },
    "language_info": {
      "name": "python"
    }
  },
  "cells": [
    {
      "cell_type": "code",
      "execution_count": 45,
      "metadata": {
        "id": "72p7KqIiSAkp"
      },
      "outputs": [],
      "source": []
    },
    {
      "cell_type": "markdown",
      "source": [
        "**THEORY**"
      ],
      "metadata": {
        "id": "qtUwE14kYBdn"
      }
    },
    {
      "cell_type": "markdown",
      "source": [
        "1. What is the difference between interpreted and compiled languages?\n",
        "\n",
        "-->\n",
        "Compiled languages (e.g., C) are transformed from source code into machine code by a compiler before running; that machine code runs directly on the CPU. Interpreted languages (e.g., Python) are read and executed line-by-line by an interpreter at runtime. Compiled code is usually faster; interpreted code is easier to test and more portable. Some languages use both approaches (just-in-time compilation).\n",
        "\n",
        "2. What is exception handling in Python?\n",
        "\n",
        "--> Exception handling is a way to catch and manage errors that happen while a program runs. You use try blocks to run code and except blocks to respond to specific errors. It prevents the program from crashing and allows graceful recovery or meaningful messages. It also helps to log errors or clean up resources.\n",
        "\n",
        "3. What is the purpose of the finally block in exception handling?\n",
        "\n",
        "-->\n",
        "finally runs no matter what — whether an exception happened or not. Use it to clean up resources (close files, release locks). It ensures important cleanup code always executes. Even if you return inside try/except, finally still runs.\n",
        "\n",
        "4. What is logging in Python?\n",
        "\n",
        "-->\n",
        "Logging means recording events (info, warnings, errors) during program execution. The logging module lets you write messages to console or files with levels like INFO or ERROR. Logs help debug, monitor, and audit programs. They are better than print statements for long-term tracing.\n",
        "\n",
        "5. What is the significance of the __del__ method in Python?\n",
        "\n",
        "-->\n",
        "__del__ is a destructor method called when an object is about to be garbage-collected. It can be used for final cleanup, but its execution time is not guaranteed. Relying on __del__ for critical resource release is unsafe — prefer context managers. In CPython it often runs when refcount goes to zero, but not in all implementations.\n",
        "\n",
        "6. What is the difference between import and from ... import in Python?\n",
        "\n",
        "-->\n",
        "import module brings the whole module and you use module.name. from module import name brings specific items into current namespace so you can use name directly. from ... import * imports everything (unsafe). Use import module for clarity and to avoid name conflicts.\n",
        "\n",
        "7. How can you handle multiple exceptions in Python?\n",
        "\n",
        "-->\n",
        "You can add multiple except blocks, each for a different error type, or catch multiple types in one except (TypeError, ValueError):. Order matters — more specific exceptions should come first. You can also use a general except Exception: as a fallback, but avoid catching overly broad exceptions unnecessarily.\n",
        "\n",
        "8. What is the purpose of the with statement when handling files in Python?\n",
        "\n",
        "-->\n",
        "with open(...) as f: opens a file and guarantees it will be closed automatically when the block ends, even if an error occurs. It simplifies resource management and reduces bugs from forgetting to close files. It uses context managers (__enter__ and __exit__) behind the scenes. Always prefer with for file I/O.\n",
        "\n",
        "9. What is the difference between multithreading and multiprocessing?\n",
        "\n",
        "-->\n",
        "Multithreading runs multiple threads inside one process and shares memory; it’s good for I/O-bound tasks. Multiprocessing runs separate processes with separate memory; it’s better for CPU-bound tasks and avoids Python’s GIL limitations. Multiprocessing has more overhead for inter-process communication.\n",
        "\n",
        "10. What are the advantages of using logging in a program?\n",
        "\n",
        "-->\n",
        "Logging gives persistent, structured records of program behavior, which helps debugging and monitoring. You can set levels (INFO, WARNING, ERROR), write to files, and rotate logs. Logs are searchable and can be sent to external systems for analysis. They are safer and more flexible than print() debugging.\n",
        "\n",
        "11. What is memory management in Python?\n",
        "\n",
        "-->\n",
        "Memory management is how Python allocates, tracks, and frees memory used by objects. Python uses reference counting plus a cyclic garbage collector to reclaim unused objects. The interpreter and OS manage low-level allocation. Proper memory use prevents leaks and keeps programs efficient.\n",
        "\n",
        "12. What are the basic steps involved in exception handling in Python?\n",
        "\n",
        "Wrap risky code in a try block. 2) Catch expected errors in except blocks. 3) Optionally use else for code that runs if no exception occurred. 4) Use finally for cleanup that must run. 5) Optionally re-raise or log exceptions.\n",
        "\n",
        "13. Why is memory management important in Python?\n",
        "\n",
        "-->\n",
        "Good memory management prevents programs from using too much RAM, which can slow or crash systems. It helps performance, especially for long-running services. It reduces bugs from leaks and makes the program more predictable across different datasets. Efficient memory use saves resources and cost.\n",
        "\n",
        "14. What is the role of try and except in exception handling?\n",
        "\n",
        "-->\n",
        "try encloses code that might raise an error; except handles that error when it occurs. except can match specific exception types and run recovery code. Together they prevent the program from crashing on expected errors. You can also inspect the exception object in except as e:.\n",
        "\n",
        "15. How does Python's garbage collection system work?\n",
        "\n",
        "-->\n",
        "Python uses reference counting: each object has a count of references; when it hits zero, the object is freed. To handle reference cycles, Python also has a cyclic garbage collector that periodically finds groups of objects that reference each other but are unreachable. You can interact with it via the gc module. It helps free memory automatically.\n",
        "\n",
        "16. What is the purpose of the else block in exception handling?\n",
        "-->else runs if the try block finishes without raising an exception. It’s useful for code that should run only when no error occurred (e.g., further processing of successful results). It keeps success logic separate from error-handling logic. finally still runs after else.\n",
        "\n",
        "17. What are the common logging levels in Python?\n",
        "\n",
        "-->\n",
        "Common levels: DEBUG (detailed), INFO (general events), WARNING (something unexpected), ERROR (a failure), and CRITICAL (very serious). Use levels to filter and route logs appropriately. Default logging level is usually WARNING.\n",
        "\n",
        "18. What is the difference between os.fork() and multiprocessing in Python?\n",
        "\n",
        "-->\n",
        "os.fork() creates a child process by duplicating the current process (Unix only). multiprocessing is a cross-platform module that creates new Python processes with higher-level APIs and easier IPC (queues, pipes). multiprocessing is safer and works on Windows; fork() is lower-level and Unix-specific.\n",
        "\n",
        "19. What is the importance of closing a file in Python?\n",
        "\n",
        "-->\n",
        "Closing a file flushes buffers and releases system resources. If you don’t close files, data might not be written or file descriptors can leak. Using with auto-closes files to avoid such problems. Always close files when done.\n",
        "\n",
        "20. What is the difference between file.read() and file.readline() in Python?\n",
        "\n",
        "-->\n",
        "file.read() reads the whole file (or a specified number of bytes) into a string. file.readline() reads up to the next newline and returns one line at a time. Use read() for small files, readline() or iterating the file for large files to save memory.\n",
        "\n",
        "21. What is the logging module in Python used for?\n",
        "\n",
        "-->\n",
        "The logging module provides flexible logging to console, files, or other handlers. It supports levels, formatters, handlers (e.g., rotating files), and configuration. It replaces ad-hoc print() debugging in production code. Use it for tracing, monitoring, and error reporting.\n",
        "\n",
        "22. What is the os module in Python used for in file handling?\n",
        "\n",
        "-->\n",
        "The os module offers functions for file and directory operations (os.path, os.remove, os.rename, os.mkdir, os.listdir, etc.). It helps check file existence, permissions, and paths. Combined with shutil and pathlib, it gives powerful file-system tools.\n",
        "\n",
        "23 . What are the challenges associated with memory management in Python?\n",
        "\n",
        "-->\n",
        "Challenges include hidden references causing memory leaks (e.g., circular refs with external resources), unbounded caches, large data structures, and long-running processes. Debugging leaks needs tools/profilers. Also, Python’s high-level abstractions sometimes hide memory costs.\n",
        "\n",
        "24. How do you raise an exception manually in Python?\n",
        "\n",
        "-->\n",
        "Use the raise statement: raise ValueError(\"bad value\"). You can raise built-in or custom exceptions (subclass Exception). Raise exceptions when invalid conditions occur so callers can handle them. Good for defensive programming.\n",
        "\n",
        "25. Why is it important to use multithreading in certain applications?\n",
        "\n",
        "-->\n",
        "Multithreading is useful for tasks that wait on I/O (network, disk), because while one thread waits another can run. It improves responsiveness in GUI apps and servers handling many simultaneous I/O requests. However, Python’s GIL limits CPU-bound parallelism, so use multiprocessing for heavy CPU tasks."
      ],
      "metadata": {
        "id": "LDcWOqytSKay"
      }
    },
    {
      "cell_type": "markdown",
      "source": [
        "**PRACTICAL**"
      ],
      "metadata": {
        "id": "F3xrJzRuT2jW"
      }
    },
    {
      "cell_type": "markdown",
      "source": [
        "1.How can you open a file for writing in Python and write a string to it"
      ],
      "metadata": {
        "id": "yCbu2wB9T6n0"
      }
    },
    {
      "cell_type": "code",
      "source": [
        "\n",
        "\n",
        "with open(\"output.txt\", \"w\", encoding=\"utf-8\") as f:\n",
        "    f.write(\"Hello, this is a test string.\\n\")\n",
        "print(\"Wrote to output.txt\")\n"
      ],
      "metadata": {
        "colab": {
          "base_uri": "https://localhost:8080/"
        },
        "id": "BKXG-yeTUADO",
        "outputId": "bf64e9b1-ccb1-4bca-a239-b553def15ebc"
      },
      "execution_count": 61,
      "outputs": [
        {
          "output_type": "stream",
          "name": "stdout",
          "text": [
            "Wrote to output.txt\n"
          ]
        }
      ]
    },
    {
      "cell_type": "markdown",
      "source": [
        "2.  Write a Python program to read the contents of a file and print each line."
      ],
      "metadata": {
        "id": "f7H-WCagUAUR"
      }
    },
    {
      "cell_type": "code",
      "source": [
        "\n",
        "with open(\"output.txt\", \"r\", encoding=\"utf-8\") as f:\n",
        "    for line in f:\n",
        "        print(line.rstrip(\"\\n\"))\n"
      ],
      "metadata": {
        "colab": {
          "base_uri": "https://localhost:8080/"
        },
        "id": "lZGKh8wqUAkm",
        "outputId": "4455c092-e4d7-444f-a615-825ee8c885d0"
      },
      "execution_count": 62,
      "outputs": [
        {
          "output_type": "stream",
          "name": "stdout",
          "text": [
            "Hello, this is a test string.\n"
          ]
        }
      ]
    },
    {
      "cell_type": "markdown",
      "source": [
        " 3. How would you handle a case where the file doesn't exist while trying to open it for reading"
      ],
      "metadata": {
        "id": "dsYuhmLbUA0M"
      }
    },
    {
      "cell_type": "code",
      "source": [
        "\n",
        "try:\n",
        "    with open(\"maybe_missing.txt\", \"r\", encoding=\"utf-8\") as f:\n",
        "        print(f.read())\n",
        "except FileNotFoundError:\n",
        "    print(\"File not found — please check the path.\")\n"
      ],
      "metadata": {
        "colab": {
          "base_uri": "https://localhost:8080/"
        },
        "id": "nFttT077UA7o",
        "outputId": "44442a39-5c30-43cf-998b-cb0e67b9b4e5"
      },
      "execution_count": 63,
      "outputs": [
        {
          "output_type": "stream",
          "name": "stdout",
          "text": [
            "File not found — please check the path.\n"
          ]
        }
      ]
    },
    {
      "cell_type": "markdown",
      "source": [
        "4.  Write a Python script that reads from one file and writes its content to another file"
      ],
      "metadata": {
        "id": "Bx9op5JiUBOy"
      }
    },
    {
      "cell_type": "code",
      "source": [
        "\n",
        "src = \"output.txt\"\n",
        "dst = \"copy_of_output.txt\"\n",
        "try:\n",
        "    with open(src, \"r\", encoding=\"utf-8\") as fr, open(dst, \"w\", encoding=\"utf-8\") as fw:\n",
        "        for line in fr:\n",
        "            fw.write(line)\n",
        "    print(\"Copied\", src, \"to\", dst)\n",
        "except FileNotFoundError:\n",
        "    print(\"Source file not found.\")\n"
      ],
      "metadata": {
        "colab": {
          "base_uri": "https://localhost:8080/"
        },
        "id": "X6pz1VrYUBTF",
        "outputId": "8ef42330-baef-4107-c49d-28771f04703c"
      },
      "execution_count": 64,
      "outputs": [
        {
          "output_type": "stream",
          "name": "stdout",
          "text": [
            "Copied output.txt to copy_of_output.txt\n"
          ]
        }
      ]
    },
    {
      "cell_type": "markdown",
      "source": [
        "5. How would you catch and handle division by zero error in Python"
      ],
      "metadata": {
        "id": "9s_7q8cNUBf4"
      }
    },
    {
      "cell_type": "code",
      "source": [
        "\n",
        "def safe_divide(a, b):\n",
        "    try:\n",
        "        return a / b\n",
        "    except ZeroDivisionError:\n",
        "        print(\"Cannot divide by zero.\")\n",
        "        return None\n",
        "\n",
        "print(safe_divide(10, 2))\n",
        "print(safe_divide(10, 0))\n"
      ],
      "metadata": {
        "colab": {
          "base_uri": "https://localhost:8080/"
        },
        "id": "qMavL3VaUBlB",
        "outputId": "68679416-7ae6-49b6-aa01-4d63a1d6624c"
      },
      "execution_count": 65,
      "outputs": [
        {
          "output_type": "stream",
          "name": "stdout",
          "text": [
            "5.0\n",
            "Cannot divide by zero.\n",
            "None\n"
          ]
        }
      ]
    },
    {
      "cell_type": "markdown",
      "source": [
        "6. Write a Python program that logs an error message to a log file when a division by zero exception occurs"
      ],
      "metadata": {
        "id": "6Q2N8NF3UBtr"
      }
    },
    {
      "cell_type": "code",
      "source": [
        "\n",
        "\n",
        "import logging\n",
        "logging.basicConfig(filename=\"errors.log\", level=logging.ERROR,\n",
        "                    format=\"%(asctime)s %(levelname)s: %(message)s\")\n",
        "\n",
        "def divide(a, b):\n",
        "    try:\n",
        "        return a / b\n",
        "    except ZeroDivisionError as e:\n",
        "        logging.error(\"Division by zero: %s / %s\", a, b)\n",
        "        return None\n",
        "\n",
        "divide(5, 0)\n",
        "\n",
        "\n"
      ],
      "metadata": {
        "colab": {
          "base_uri": "https://localhost:8080/"
        },
        "id": "TDtd5mERUBzf",
        "outputId": "5aec71ff-4309-4916-da00-c86ed980173d"
      },
      "execution_count": 66,
      "outputs": [
        {
          "output_type": "stream",
          "name": "stderr",
          "text": [
            "ERROR:root:Division by zero: 5 / 0\n"
          ]
        }
      ]
    },
    {
      "cell_type": "markdown",
      "source": [
        "7. How do you log information at different levels (INFO, ERROR, WARNING) in Python using the logging module\n",
        "\n"
      ],
      "metadata": {
        "id": "b_Fv8lYvUB6v"
      }
    },
    {
      "cell_type": "code",
      "source": [
        "\n",
        "\n",
        "import logging\n",
        "logger = logging.getLogger(\"myapp\")\n",
        "logger.setLevel(logging.DEBUG)\n",
        "handler = logging.FileHandler(\"myapp.log\")\n",
        "formatter = logging.Formatter(\"%(asctime)s %(levelname)s: %(message)s\")\n",
        "handler.setFormatter(formatter)\n",
        "logger.addHandler(handler)\n",
        "\n",
        "logger.debug(\"Debugging info\")\n",
        "logger.info(\"General info\")\n",
        "logger.warning(\"Watch out\")\n",
        "logger.error(\"An error occurred\")\n",
        "logger.critical(\"Critical issue\")\n",
        "\n",
        "\n"
      ],
      "metadata": {
        "colab": {
          "base_uri": "https://localhost:8080/"
        },
        "id": "iMFMpk0bUCDT",
        "outputId": "eb1ad85c-0b30-400d-f0c5-82a70e588126"
      },
      "execution_count": 67,
      "outputs": [
        {
          "output_type": "stream",
          "name": "stderr",
          "text": [
            "DEBUG:myapp:Debugging info\n",
            "INFO:myapp:General info\n",
            "WARNING:myapp:Watch out\n",
            "ERROR:myapp:An error occurred\n",
            "CRITICAL:myapp:Critical issue\n"
          ]
        }
      ]
    },
    {
      "cell_type": "markdown",
      "source": [
        "8. Write a program to handle a file opening error using exception handling\n",
        "\n"
      ],
      "metadata": {
        "id": "T0GEGVj8UCKR"
      }
    },
    {
      "cell_type": "code",
      "source": [
        "\n",
        "\n",
        "try:\n",
        "    f = open(\"no_such_file.txt\", \"r\", encoding=\"utf-8\")\n",
        "except FileNotFoundError as e:\n",
        "    print(\"Caught error:\", e)\n",
        "else:\n",
        "    with f:\n",
        "        print(f.read())\n",
        "\n"
      ],
      "metadata": {
        "colab": {
          "base_uri": "https://localhost:8080/"
        },
        "id": "HrYMSDLsUCRY",
        "outputId": "8cb356d1-13f3-4299-99b8-0e01e883c166"
      },
      "execution_count": 68,
      "outputs": [
        {
          "output_type": "stream",
          "name": "stdout",
          "text": [
            "Caught error: [Errno 2] No such file or directory: 'no_such_file.txt'\n"
          ]
        }
      ]
    },
    {
      "cell_type": "markdown",
      "source": [
        "9. How can you read a file line by line and store its content in a list in Python\n"
      ],
      "metadata": {
        "id": "6S25dxPYUCYI"
      }
    },
    {
      "cell_type": "code",
      "source": [
        "\n",
        "\n",
        "with open(\"output.txt\", \"r\", encoding=\"utf-8\") as f:\n",
        "    lines = [line.rstrip(\"\\n\") for line in f]\n",
        "print(lines)\n",
        "\n"
      ],
      "metadata": {
        "colab": {
          "base_uri": "https://localhost:8080/"
        },
        "id": "GVQQfmcIUCfH",
        "outputId": "6b315bf8-8929-4888-98e1-12da6e2738c4"
      },
      "execution_count": 69,
      "outputs": [
        {
          "output_type": "stream",
          "name": "stdout",
          "text": [
            "['Hello, this is a test string.']\n"
          ]
        }
      ]
    },
    {
      "cell_type": "markdown",
      "source": [
        "\n",
        "\n",
        "10.\n",
        "How can you append data to an existing file in Python\n",
        "\n"
      ],
      "metadata": {
        "id": "Y46ixqoHUCml"
      }
    },
    {
      "cell_type": "code",
      "source": [
        "\n",
        "with open(\"output.txt\", \"a\", encoding=\"utf-8\") as f:\n",
        "    f.write(\"This is an appended line.\\n\")\n"
      ],
      "metadata": {
        "id": "x5CzEJO8UCtp"
      },
      "execution_count": 70,
      "outputs": []
    },
    {
      "cell_type": "markdown",
      "source": [
        "11. Write a Python program that uses a try-except block to handle an error when attempting to access a dictionary key that doesn't exist\n",
        "\n",
        "\n",
        "\n"
      ],
      "metadata": {
        "id": "-9WwWT4oUC0D"
      }
    },
    {
      "cell_type": "code",
      "source": [
        "\n",
        "d = {\"a\": 1}\n",
        "try:\n",
        "    print(d[\"b\"])\n",
        "except KeyError:\n",
        "    print(\"Key 'b' not found.\")\n",
        "t\n",
        "\n"
      ],
      "metadata": {
        "colab": {
          "base_uri": "https://localhost:8080/",
          "height": 211
        },
        "id": "0i_53vEPUC6Z",
        "outputId": "4f8805b2-bfef-4d9a-9559-927480176051"
      },
      "execution_count": 71,
      "outputs": [
        {
          "output_type": "stream",
          "name": "stdout",
          "text": [
            "Key 'b' not found.\n"
          ]
        },
        {
          "output_type": "error",
          "ename": "NameError",
          "evalue": "name 't' is not defined",
          "traceback": [
            "\u001b[0;31m---------------------------------------------------------------------------\u001b[0m",
            "\u001b[0;31mNameError\u001b[0m                                 Traceback (most recent call last)",
            "\u001b[0;32m/tmp/ipython-input-4157005923.py\u001b[0m in \u001b[0;36m<cell line: 0>\u001b[0;34m()\u001b[0m\n\u001b[1;32m      4\u001b[0m \u001b[0;32mexcept\u001b[0m \u001b[0mKeyError\u001b[0m\u001b[0;34m:\u001b[0m\u001b[0;34m\u001b[0m\u001b[0;34m\u001b[0m\u001b[0m\n\u001b[1;32m      5\u001b[0m     \u001b[0mprint\u001b[0m\u001b[0;34m(\u001b[0m\u001b[0;34m\"Key 'b' not found.\"\u001b[0m\u001b[0;34m)\u001b[0m\u001b[0;34m\u001b[0m\u001b[0;34m\u001b[0m\u001b[0m\n\u001b[0;32m----> 6\u001b[0;31m \u001b[0mt\u001b[0m\u001b[0;34m\u001b[0m\u001b[0;34m\u001b[0m\u001b[0m\n\u001b[0m\u001b[1;32m      7\u001b[0m \u001b[0;34m\u001b[0m\u001b[0m\n",
            "\u001b[0;31mNameError\u001b[0m: name 't' is not defined"
          ]
        }
      ]
    },
    {
      "cell_type": "markdown",
      "source": [
        "12. Write a program that demonstrates using multiple except blocks to handle different types of exceptions"
      ],
      "metadata": {
        "id": "oNsEeOroUDBE"
      }
    },
    {
      "cell_type": "code",
      "source": [
        "\n",
        "try:\n",
        "    x = int(\"abc\")\n",
        "    y = 1 / 0\n",
        "except ValueError:\n",
        "    print(\"Value conversion failed.\")\n",
        "except ZeroDivisionError:\n",
        "    print(\"Division by zero happened.\")\n",
        "except Exception:\n",
        "    print(\"Some other error.\")\n",
        "\n",
        "\n"
      ],
      "metadata": {
        "colab": {
          "base_uri": "https://localhost:8080/"
        },
        "id": "h6KsqNhYUDH4",
        "outputId": "ce01028d-569c-439f-d026-82201ea92156"
      },
      "execution_count": 72,
      "outputs": [
        {
          "output_type": "stream",
          "name": "stdout",
          "text": [
            "Value conversion failed.\n"
          ]
        }
      ]
    },
    {
      "cell_type": "markdown",
      "source": [
        "13. How would you check if a file exists before attempting to read it in Python\n",
        "\n"
      ],
      "metadata": {
        "id": "SkKj6lfkUDN7"
      }
    },
    {
      "cell_type": "code",
      "source": [
        "\n",
        "import os\n",
        "if os.path.exists(\"output.txt\") and os.path.isfile(\"output.txt\"):\n",
        "    with open(\"output.txt\", \"r\", encoding=\"utf-8\") as f:\n",
        "        print(f.read())\n",
        "else:\n",
        "    print(\"File does not exist.\")\n"
      ],
      "metadata": {
        "colab": {
          "base_uri": "https://localhost:8080/"
        },
        "id": "vqGizo0jUDVN",
        "outputId": "32d5765e-5836-4e27-cb98-57b469c00972"
      },
      "execution_count": 73,
      "outputs": [
        {
          "output_type": "stream",
          "name": "stdout",
          "text": [
            "Hello, this is a test string.\n",
            "This is an appended line.\n",
            "\n"
          ]
        }
      ]
    },
    {
      "cell_type": "markdown",
      "source": [
        "14. Write a program that uses the logging module to log both informational and error messages\n",
        "\n"
      ],
      "metadata": {
        "id": "V528cbhBUDbg"
      }
    },
    {
      "cell_type": "code",
      "source": [
        "\n",
        "\n",
        "import logging\n",
        "logging.basicConfig(filename=\"combined.log\", level=logging.INFO,\n",
        "                    format=\"%(asctime)s %(levelname)s: %(message)s\")\n",
        "logging.info(\"Program started\")\n",
        "try:\n",
        "    1 / 0\n",
        "except ZeroDivisionError:\n",
        "    logging.exception(\"Exception happened\")\n"
      ],
      "metadata": {
        "colab": {
          "base_uri": "https://localhost:8080/"
        },
        "id": "lT89sC9sUDh0",
        "outputId": "4ac34448-3952-48cb-a3e9-881271215310"
      },
      "execution_count": 74,
      "outputs": [
        {
          "output_type": "stream",
          "name": "stderr",
          "text": [
            "ERROR:root:Exception happened\n",
            "Traceback (most recent call last):\n",
            "  File \"/tmp/ipython-input-1181421471.py\", line 6, in <cell line: 0>\n",
            "    1 / 0\n",
            "    ~~^~~\n",
            "ZeroDivisionError: division by zero\n"
          ]
        }
      ]
    },
    {
      "cell_type": "markdown",
      "source": [
        "15. Write a Python program that prints the content of a file and handles the case when the file is empty\n",
        "\n"
      ],
      "metadata": {
        "id": "FJeSxO3NUDoK"
      }
    },
    {
      "cell_type": "code",
      "source": [
        "\n",
        "import os\n",
        "fname = \"maybe_empty.txt\"\n",
        "if os.path.exists(fname) and os.path.getsize(fname) > 0:\n",
        "    with open(fname, \"r\", encoding=\"utf-8\") as f:\n",
        "        print(f.read())\n",
        "else:\n",
        "    print(\"File is empty or does not exist.\")\n"
      ],
      "metadata": {
        "colab": {
          "base_uri": "https://localhost:8080/"
        },
        "id": "buC3k9N-UDus",
        "outputId": "502ea19b-c09a-41b8-87ea-97f7150c4abb"
      },
      "execution_count": 75,
      "outputs": [
        {
          "output_type": "stream",
          "name": "stdout",
          "text": [
            "File is empty or does not exist.\n"
          ]
        }
      ]
    },
    {
      "cell_type": "markdown",
      "source": [
        "16. Demonstrate how to use memory profiling to check the memory usage of a small program\n",
        "\n",
        "\n",
        "\n"
      ],
      "metadata": {
        "id": "ZeT8pFrvUD0w"
      }
    },
    {
      "cell_type": "code",
      "source": [
        "\n",
        "\n",
        "import tracemalloc\n",
        "\n",
        "tracemalloc.start()\n",
        "a = [i for i in range(100000)]\n",
        "current, peak = tracemalloc.get_traced_memory()\n",
        "print(f\"Current: {current/1024:.1f} KB; Peak: {peak/1024:.1f} KB\")\n",
        "tracemalloc.stop()\n",
        "\n"
      ],
      "metadata": {
        "colab": {
          "base_uri": "https://localhost:8080/"
        },
        "id": "cyp1HPyEUD6r",
        "outputId": "4c5db729-bd90-4765-d997-b88b01d2548e"
      },
      "execution_count": 76,
      "outputs": [
        {
          "output_type": "stream",
          "name": "stdout",
          "text": [
            "Current: 3900.1 KB; Peak: 3918.3 KB\n"
          ]
        }
      ]
    },
    {
      "cell_type": "markdown",
      "source": [
        "17. Write a Python program to create and write a list of numbers to a file, one number per line\n",
        "\n"
      ],
      "metadata": {
        "id": "pwxiiMVpUEZ7"
      }
    },
    {
      "cell_type": "code",
      "source": [
        "\n",
        "\n",
        "\n",
        "numbers = [1,2,3,4,5]\n",
        "with open(\"numbers.txt\", \"w\", encoding=\"utf-8\") as f:\n",
        "    for n in numbers:\n",
        "        f.write(f\"{n}\\n\")\n",
        "\n"
      ],
      "metadata": {
        "id": "Q7OCkzNoUEf3"
      },
      "execution_count": 77,
      "outputs": []
    },
    {
      "cell_type": "markdown",
      "source": [
        "18. How would you implement a basic logging setup that logs to a file with rotation after 1MB\n",
        "\n"
      ],
      "metadata": {
        "id": "qCp_mRsqUEl5"
      }
    },
    {
      "cell_type": "code",
      "source": [
        "\n",
        "import logging\n",
        "from logging.handlers import RotatingFileHandler\n",
        "\n",
        "handler = RotatingFileHandler(\"rotating.log\", maxBytes=1_000_000, backupCount=3)\n",
        "formatter = logging.Formatter(\"%(asctime)s %(levelname)s: %(message)s\")\n",
        "handler.setFormatter(formatter)\n",
        "\n",
        "logger = logging.getLogger(\"rot_logger\")\n",
        "logger.setLevel(logging.INFO)\n",
        "logger.addHandler(handler)\n",
        "\n",
        "logger.info(\"This will be logged with rotation.\")\n",
        "\n"
      ],
      "metadata": {
        "colab": {
          "base_uri": "https://localhost:8080/"
        },
        "id": "aMQj67cCUEsJ",
        "outputId": "0ebe21f9-b6ea-494e-a8a0-6ea73cb7af06"
      },
      "execution_count": 78,
      "outputs": [
        {
          "output_type": "stream",
          "name": "stderr",
          "text": [
            "INFO:rot_logger:This will be logged with rotation.\n"
          ]
        }
      ]
    },
    {
      "cell_type": "markdown",
      "source": [
        "19. Write a program that handles both IndexError and KeyError using a try-except block\n",
        "\n"
      ],
      "metadata": {
        "id": "g8S_3lEjUEyd"
      }
    },
    {
      "cell_type": "code",
      "source": [
        "\n",
        "lst = [1,2]\n",
        "d = {\"x\": 10}\n",
        "try:\n",
        "    print(lst[5])\n",
        "    print(d[\"y\"])\n",
        "except IndexError:\n",
        "    print(\"Index out of range\")\n",
        "except KeyError:\n",
        "    print(\"Key missing in dict\")\n"
      ],
      "metadata": {
        "colab": {
          "base_uri": "https://localhost:8080/"
        },
        "id": "a_X8IycgUE4x",
        "outputId": "08adad46-5661-4a0b-d459-9f72754dbfd7"
      },
      "execution_count": 79,
      "outputs": [
        {
          "output_type": "stream",
          "name": "stdout",
          "text": [
            "Index out of range\n"
          ]
        }
      ]
    },
    {
      "cell_type": "markdown",
      "source": [
        "20. How would you open a file and read its contents using a context manager in Python\n",
        "\n"
      ],
      "metadata": {
        "id": "GyTChckeUFGE"
      }
    },
    {
      "cell_type": "code",
      "source": [
        "\n",
        "with open(\"output.txt\", \"r\", encoding=\"utf-8\") as f:\n",
        "    data = f.read()\n",
        "print(\"Read\", len(data), \"characters\")\n"
      ],
      "metadata": {
        "colab": {
          "base_uri": "https://localhost:8080/"
        },
        "id": "oyHTdGEFUFM9",
        "outputId": "8a02fb4e-8603-438b-e86e-d323f7c19cca"
      },
      "execution_count": 80,
      "outputs": [
        {
          "output_type": "stream",
          "name": "stdout",
          "text": [
            "Read 56 characters\n"
          ]
        }
      ]
    },
    {
      "cell_type": "markdown",
      "source": [
        "21. Write a Python program that reads a file and prints the number of occurrences of a specific word"
      ],
      "metadata": {
        "id": "eiHpgX-4UFWl"
      }
    },
    {
      "cell_type": "code",
      "source": [
        "\n",
        "from collections import Counter\n",
        "word = \"the\"\n",
        "with open(\"output.txt\", \"r\", encoding=\"utf-8\") as f:\n",
        "    text = f.read().lower()\n",
        "words = [w.strip(\".,!?;:()[]\\\"'\") for w in text.split()]\n",
        "counts = Counter(words)\n",
        "print(f\"'{word}' occurs {counts[word.lower()]} times\")\n"
      ],
      "metadata": {
        "colab": {
          "base_uri": "https://localhost:8080/"
        },
        "id": "MrT-ghzyUFdp",
        "outputId": "efa08334-888e-4f83-c611-a1f37b4c916a"
      },
      "execution_count": 81,
      "outputs": [
        {
          "output_type": "stream",
          "name": "stdout",
          "text": [
            "'the' occurs 0 times\n"
          ]
        }
      ]
    },
    {
      "cell_type": "markdown",
      "source": [
        "\n",
        "22. How can you check if a file is empty before attempting to read its contents\n",
        "\n"
      ],
      "metadata": {
        "id": "GLlHporjUF0l"
      }
    },
    {
      "cell_type": "code",
      "source": [
        "\n",
        "import os\n",
        "fname = \"output.txt\"\n",
        "if os.path.exists(fname) and os.path.getsize(fname) == 0:\n",
        "    print(\"File is empty\")\n",
        "else:\n",
        "    print(\"File has content or does not exist\")\n"
      ],
      "metadata": {
        "colab": {
          "base_uri": "https://localhost:8080/"
        },
        "id": "ElHTmv9bUF69",
        "outputId": "1c2ed81d-9b6c-4000-9b7f-35110173321c"
      },
      "execution_count": 82,
      "outputs": [
        {
          "output_type": "stream",
          "name": "stdout",
          "text": [
            "File has content or does not exist\n"
          ]
        }
      ]
    },
    {
      "cell_type": "markdown",
      "source": [
        "23. Write a Python program that writes to a log file when an error occurs during file handling.\n"
      ],
      "metadata": {
        "id": "OzYuwTmAUO7u"
      }
    },
    {
      "cell_type": "code",
      "source": [
        "\n",
        "import logging, os\n",
        "logging.basicConfig(filename=\"file_errors.log\", level=logging.ERROR)\n",
        "\n",
        "try:\n",
        "    with open(\"no_file.txt\", \"r\", encoding=\"utf-8\") as f:\n",
        "        data = f.read()\n",
        "except Exception as e:\n",
        "    logging.exception(\"Error reading file: %s\", e)\n"
      ],
      "metadata": {
        "colab": {
          "base_uri": "https://localhost:8080/"
        },
        "id": "yXZE1bHWUPBn",
        "outputId": "c3543787-f3d4-475f-cb9f-e2f30883783f"
      },
      "execution_count": 83,
      "outputs": [
        {
          "output_type": "stream",
          "name": "stderr",
          "text": [
            "ERROR:root:Error reading file: [Errno 2] No such file or directory: 'no_file.txt'\n",
            "Traceback (most recent call last):\n",
            "  File \"/tmp/ipython-input-1095466530.py\", line 5, in <cell line: 0>\n",
            "    with open(\"no_file.txt\", \"r\", encoding=\"utf-8\") as f:\n",
            "         ^^^^^^^^^^^^^^^^^^^^^^^^^^^^^^^^^^^^^^^^^^\n",
            "FileNotFoundError: [Errno 2] No such file or directory: 'no_file.txt'\n"
          ]
        }
      ]
    }
  ]
}